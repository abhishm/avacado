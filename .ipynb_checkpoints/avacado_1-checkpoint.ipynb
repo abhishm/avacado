{
 "metadata": {
  "name": "",
  "signature": "sha256:649c69f618e8d49393de62c279178f2a8bb3e58939d8dc61fc48cbc65dca64e7"
 },
 "nbformat": 3,
 "nbformat_minor": 0,
 "worksheets": [
  {
   "cells": [
    {
     "cell_type": "markdown",
     "metadata": {},
     "source": [
      "1. O = Over (finish all the supply of the previous week)\n",
      "2. ! = very few items left (less than one day supply)\n",
      "3. R =\tReplenish (less than desired amount of a week)\n",
      "4. N = Please dont you suck\t(greater than desired amount of a week)"
     ]
    },
    {
     "cell_type": "markdown",
     "metadata": {},
     "source": [
      "**Correction factor:**\n",
      "If the item is finished, then desired = desired*correction_factor"
     ]
    },
    {
     "cell_type": "code",
     "collapsed": false,
     "input": [
      "min_consumption = 1\n",
      "max_consumption = 5"
     ],
     "language": "python",
     "metadata": {},
     "outputs": [],
     "prompt_number": 1
    },
    {
     "cell_type": "markdown",
     "metadata": {},
     "source": [
      "**Formulating the problem as a Markov Decision Process**\n",
      "1. The state of the MDP is the number of item (tomato) in the store. \n",
      "2. We assume that a person can have maximum $N$ item in the store. In other word, if the person has $N$ items,  then we will not put any more item from our side. \n",
      "3. The action that we take is to put $x$ extra item in the store where $0\\leq x \\leq N$.\n",
      "4. For sake of an example, assume that the reward $r$ is a function of present state as following\n",
      "$$\n",
      "r(s) = \\left\\{\n",
      "\\begin{array}{cc}\n",
      "-10 & s=0 \\\\\n",
      "10 & 1 \\leq s \\leq 3\\\\\n",
      "-100 & s>3 \n",
      "\\end{array}\n",
      "\\right.\n",
      "$$\n",
      "5. Now we will use Q-Learning to solve this MDP."
     ]
    },
    {
     "cell_type": "code",
     "collapsed": false,
     "input": [
      "import numpy as np"
     ],
     "language": "python",
     "metadata": {},
     "outputs": [],
     "prompt_number": 4
    },
    {
     "cell_type": "code",
     "collapsed": false,
     "input": [
      "N = 10\n",
      "num_iter = 10"
     ],
     "language": "python",
     "metadata": {},
     "outputs": [],
     "prompt_number": 6
    },
    {
     "cell_type": "code",
     "collapsed": false,
     "input": [
      "number_s = N+1\n",
      "number_a = N+1\n",
      "Q = np.zeros((number_s, number_a))"
     ],
     "language": "python",
     "metadata": {},
     "outputs": [],
     "prompt_number": 7
    },
    {
     "cell_type": "code",
     "collapsed": false,
     "input": [
      "alpha = 0.1 #learning_rate\n",
      "epsilon = 0.1 # epsilon-greedy action"
     ],
     "language": "python",
     "metadata": {},
     "outputs": [],
     "prompt_number": 8
    },
    {
     "cell_type": "code",
     "collapsed": false,
     "input": [
      "def next_state(s,a):\n",
      "    return s+a"
     ],
     "language": "python",
     "metadata": {},
     "outputs": [],
     "prompt_number": 10
    },
    {
     "cell_type": "code",
     "collapsed": false,
     "input": [
      "def epsilon_greedy_action(s):\n",
      "    if epsilon < np.random.rand():\n",
      "        return np.random.randint(0,N-s+1)\n",
      "    else:\n",
      "        return np.argmax(Q[s,:])   "
     ],
     "language": "python",
     "metadata": {},
     "outputs": [],
     "prompt_number": 9
    },
    {
     "cell_type": "code",
     "collapsed": false,
     "input": [
      "def reward(s):\n",
      "    if s == 0:\n",
      "        return -10\n",
      "    elif s >= 1 and s <= 3:\n",
      "        return 10\n",
      "    else:\n",
      "        return -100"
     ],
     "language": "python",
     "metadata": {},
     "outputs": [],
     "prompt_number": 11
    },
    {
     "cell_type": "code",
     "collapsed": false,
     "input": [
      "s = 0\n",
      "for i in num_iter:\n",
      "    ns = next_state(s,a)\n",
      "    max_ns = np.max(Q[s,0:N+1-s])\n",
      "    Q[s,a] += alpha*(reward(s)+)"
     ],
     "language": "python",
     "metadata": {},
     "outputs": []
    }
   ],
   "metadata": {}
  }
 ]
}